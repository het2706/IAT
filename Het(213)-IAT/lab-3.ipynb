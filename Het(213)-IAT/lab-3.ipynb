{
 "cells": [
  {
   "cell_type": "code",
   "execution_count": 4,
   "id": "f600b33b",
   "metadata": {},
   "outputs": [],
   "source": [
    "import pandas as pd\n",
    "import numpy as np"
   ]
  },
  {
   "cell_type": "code",
   "execution_count": 6,
   "id": "14987d95",
   "metadata": {},
   "outputs": [
    {
     "data": {
      "text/plain": [
       "0    10\n",
       "1    20\n",
       "2    30\n",
       "3    40\n",
       "4    50\n",
       "dtype: int64"
      ]
     },
     "execution_count": 6,
     "metadata": {},
     "output_type": "execute_result"
    }
   ],
   "source": [
    "marks=[10,20,30,40,50]\n",
    "s=pd.Series(data=marks)\n",
    "s"
   ]
  },
  {
   "cell_type": "code",
   "execution_count": 7,
   "id": "293e2dba",
   "metadata": {},
   "outputs": [
    {
     "data": {
      "text/plain": [
       "20"
      ]
     },
     "execution_count": 7,
     "metadata": {},
     "output_type": "execute_result"
    }
   ],
   "source": [
    "s[1]"
   ]
  },
  {
   "cell_type": "code",
   "execution_count": 12,
   "id": "db03833a",
   "metadata": {},
   "outputs": [
    {
     "data": {
      "text/plain": [
       "het       180000.0\n",
       "bhavya     30000.0\n",
       "naruto     60000.0\n",
       "hinata    120000.0\n",
       "dtype: float64"
      ]
     },
     "execution_count": 12,
     "metadata": {},
     "output_type": "execute_result"
    }
   ],
   "source": [
    "sal=pd.Series(data=[150000,25000,50000,100000],index=['het','bhavya','naruto','hinata'])\n",
    "newsel=sal*20/100 + sal\n",
    "newsel"
   ]
  },
  {
   "cell_type": "code",
   "execution_count": 14,
   "id": "1b1f79f1",
   "metadata": {},
   "outputs": [
    {
     "data": {
      "text/plain": [
       "Samsung    100000\n",
       "iquoo       50000\n",
       "asus        89000\n",
       "nokia      500000\n",
       "dtype: int32"
      ]
     },
     "execution_count": 14,
     "metadata": {},
     "output_type": "execute_result"
    }
   ],
   "source": [
    "mobile_price=[100000,50000,89000,500000]\n",
    "mobile_name=['Samsung','iquoo','asus','nokia']\n",
    "mo=pd.Series(data=mobile_price,index=mobile_name,dtype=int)\n",
    "mo"
   ]
  },
  {
   "cell_type": "code",
   "execution_count": 22,
   "id": "51e8ab1f",
   "metadata": {},
   "outputs": [
    {
     "data": {
      "text/plain": [
       "23030400001       het\n",
       "23030400002    bhavya\n",
       "23030400003    jayraj\n",
       "dtype: object"
      ]
     },
     "execution_count": 22,
     "metadata": {},
     "output_type": "execute_result"
    }
   ],
   "source": [
    "stu_name=['het','bhavya','jayraj']\n",
    "enro_num=[23030400001,23030400002,23030400003]\n",
    "res=pd.Series(data=stu_name,index=enro_num,dtype=str)\n",
    "res"
   ]
  },
  {
   "cell_type": "code",
   "execution_count": 37,
   "id": "96b60577",
   "metadata": {},
   "outputs": [
    {
     "name": "stderr",
     "output_type": "stream",
     "text": [
      "C:\\Users\\student\\AppData\\Local\\Temp\\ipykernel_2556\\4228125970.py:1: UserWarning: Parsing dates in DD/MM/YYYY format when dayfirst=False (the default) was specified. This may lead to inconsistently parsed dates! Specify a format to ensure consistent parsing.\n",
      "  date=pd.to_datetime(\"17/6/2025\")\n"
     ]
    },
    {
     "data": {
      "text/plain": [
       "2025-06-17    45.5\n",
       "2025-06-18    65.5\n",
       "2025-06-19    78.1\n",
       "2025-06-20    78.4\n",
       "2025-06-21    85.5\n",
       "dtype: float64"
      ]
     },
     "execution_count": 37,
     "metadata": {},
     "output_type": "execute_result"
    }
   ],
   "source": [
    "date=pd.to_datetime(\"17/6/2025\")\n",
    "new=date+pd.to_timedelta([0,1,2,3,4],unit=\"D\",unit=\"m\")\n",
    "temp=[45.5,65.5,78.1,78.4,85.5]\n",
    "s=pd.Series(data=temp,index=new)\n",
    "s"
   ]
  },
  {
   "cell_type": "code",
   "execution_count": 44,
   "id": "e39ccbc3",
   "metadata": {},
   "outputs": [
    {
     "data": {
      "text/plain": [
       "181     3\n",
       "182     3\n",
       "183     9\n",
       "184    10\n",
       "185     8\n",
       "dtype: int32"
      ]
     },
     "execution_count": 44,
     "metadata": {},
     "output_type": "execute_result"
    }
   ],
   "source": [
    "rno=[i for i in range(181,186)]\n",
    "marks=np.random.randint(0,11,5)\n",
    "s=pd.Series(data=marks,index=rno)\n",
    "s"
   ]
  },
  {
   "cell_type": "code",
   "execution_count": 46,
   "id": "7951a310",
   "metadata": {},
   "outputs": [
    {
     "data": {
      "text/html": [
       "<div>\n",
       "<style scoped>\n",
       "    .dataframe tbody tr th:only-of-type {\n",
       "        vertical-align: middle;\n",
       "    }\n",
       "\n",
       "    .dataframe tbody tr th {\n",
       "        vertical-align: top;\n",
       "    }\n",
       "\n",
       "    .dataframe thead th {\n",
       "        text-align: right;\n",
       "    }\n",
       "</style>\n",
       "<table border=\"1\" class=\"dataframe\">\n",
       "  <thead>\n",
       "    <tr style=\"text-align: right;\">\n",
       "      <th></th>\n",
       "      <th>JSF</th>\n",
       "      <th>IAT</th>\n",
       "      <th>CA</th>\n",
       "      <th>CO</th>\n",
       "      <th>MDF</th>\n",
       "    </tr>\n",
       "  </thead>\n",
       "  <tbody>\n",
       "    <tr>\n",
       "      <th>101</th>\n",
       "      <td>39</td>\n",
       "      <td>76</td>\n",
       "      <td>6</td>\n",
       "      <td>77</td>\n",
       "      <td>50</td>\n",
       "    </tr>\n",
       "    <tr>\n",
       "      <th>102</th>\n",
       "      <td>78</td>\n",
       "      <td>31</td>\n",
       "      <td>28</td>\n",
       "      <td>95</td>\n",
       "      <td>79</td>\n",
       "    </tr>\n",
       "    <tr>\n",
       "      <th>103</th>\n",
       "      <td>85</td>\n",
       "      <td>18</td>\n",
       "      <td>44</td>\n",
       "      <td>42</td>\n",
       "      <td>42</td>\n",
       "    </tr>\n",
       "    <tr>\n",
       "      <th>104</th>\n",
       "      <td>67</td>\n",
       "      <td>78</td>\n",
       "      <td>82</td>\n",
       "      <td>14</td>\n",
       "      <td>83</td>\n",
       "    </tr>\n",
       "    <tr>\n",
       "      <th>105</th>\n",
       "      <td>52</td>\n",
       "      <td>23</td>\n",
       "      <td>17</td>\n",
       "      <td>21</td>\n",
       "      <td>1</td>\n",
       "    </tr>\n",
       "    <tr>\n",
       "      <th>106</th>\n",
       "      <td>51</td>\n",
       "      <td>74</td>\n",
       "      <td>78</td>\n",
       "      <td>26</td>\n",
       "      <td>65</td>\n",
       "    </tr>\n",
       "    <tr>\n",
       "      <th>107</th>\n",
       "      <td>22</td>\n",
       "      <td>24</td>\n",
       "      <td>4</td>\n",
       "      <td>8</td>\n",
       "      <td>85</td>\n",
       "    </tr>\n",
       "    <tr>\n",
       "      <th>108</th>\n",
       "      <td>99</td>\n",
       "      <td>81</td>\n",
       "      <td>4</td>\n",
       "      <td>99</td>\n",
       "      <td>93</td>\n",
       "    </tr>\n",
       "    <tr>\n",
       "      <th>109</th>\n",
       "      <td>64</td>\n",
       "      <td>27</td>\n",
       "      <td>76</td>\n",
       "      <td>64</td>\n",
       "      <td>54</td>\n",
       "    </tr>\n",
       "    <tr>\n",
       "      <th>110</th>\n",
       "      <td>64</td>\n",
       "      <td>41</td>\n",
       "      <td>61</td>\n",
       "      <td>35</td>\n",
       "      <td>56</td>\n",
       "    </tr>\n",
       "    <tr>\n",
       "      <th>111</th>\n",
       "      <td>88</td>\n",
       "      <td>61</td>\n",
       "      <td>16</td>\n",
       "      <td>88</td>\n",
       "      <td>42</td>\n",
       "    </tr>\n",
       "    <tr>\n",
       "      <th>112</th>\n",
       "      <td>72</td>\n",
       "      <td>52</td>\n",
       "      <td>41</td>\n",
       "      <td>15</td>\n",
       "      <td>37</td>\n",
       "    </tr>\n",
       "    <tr>\n",
       "      <th>113</th>\n",
       "      <td>13</td>\n",
       "      <td>30</td>\n",
       "      <td>87</td>\n",
       "      <td>55</td>\n",
       "      <td>13</td>\n",
       "    </tr>\n",
       "    <tr>\n",
       "      <th>114</th>\n",
       "      <td>67</td>\n",
       "      <td>34</td>\n",
       "      <td>81</td>\n",
       "      <td>55</td>\n",
       "      <td>6</td>\n",
       "    </tr>\n",
       "    <tr>\n",
       "      <th>115</th>\n",
       "      <td>17</td>\n",
       "      <td>39</td>\n",
       "      <td>95</td>\n",
       "      <td>32</td>\n",
       "      <td>99</td>\n",
       "    </tr>\n",
       "    <tr>\n",
       "      <th>116</th>\n",
       "      <td>72</td>\n",
       "      <td>29</td>\n",
       "      <td>1</td>\n",
       "      <td>70</td>\n",
       "      <td>97</td>\n",
       "    </tr>\n",
       "    <tr>\n",
       "      <th>117</th>\n",
       "      <td>20</td>\n",
       "      <td>34</td>\n",
       "      <td>94</td>\n",
       "      <td>64</td>\n",
       "      <td>89</td>\n",
       "    </tr>\n",
       "    <tr>\n",
       "      <th>118</th>\n",
       "      <td>19</td>\n",
       "      <td>4</td>\n",
       "      <td>2</td>\n",
       "      <td>32</td>\n",
       "      <td>77</td>\n",
       "    </tr>\n",
       "    <tr>\n",
       "      <th>119</th>\n",
       "      <td>45</td>\n",
       "      <td>76</td>\n",
       "      <td>33</td>\n",
       "      <td>41</td>\n",
       "      <td>74</td>\n",
       "    </tr>\n",
       "    <tr>\n",
       "      <th>120</th>\n",
       "      <td>76</td>\n",
       "      <td>87</td>\n",
       "      <td>14</td>\n",
       "      <td>90</td>\n",
       "      <td>50</td>\n",
       "    </tr>\n",
       "  </tbody>\n",
       "</table>\n",
       "</div>"
      ],
      "text/plain": [
       "     JSF  IAT  CA  CO  MDF\n",
       "101   39   76   6  77   50\n",
       "102   78   31  28  95   79\n",
       "103   85   18  44  42   42\n",
       "104   67   78  82  14   83\n",
       "105   52   23  17  21    1\n",
       "106   51   74  78  26   65\n",
       "107   22   24   4   8   85\n",
       "108   99   81   4  99   93\n",
       "109   64   27  76  64   54\n",
       "110   64   41  61  35   56\n",
       "111   88   61  16  88   42\n",
       "112   72   52  41  15   37\n",
       "113   13   30  87  55   13\n",
       "114   67   34  81  55    6\n",
       "115   17   39  95  32   99\n",
       "116   72   29   1  70   97\n",
       "117   20   34  94  64   89\n",
       "118   19    4   2  32   77\n",
       "119   45   76  33  41   74\n",
       "120   76   87  14  90   50"
      ]
     },
     "execution_count": 46,
     "metadata": {},
     "output_type": "execute_result"
    }
   ],
   "source": [
    "marks=np.random.randint(1,100,100).reshape(20,5)\n",
    "rno=[i for i in range(101,121)]\n",
    "df=pd.DataFrame(data=marks,index=rno,columns=['JSF','IAT','CA','CO','MDF'])\n",
    "df"
   ]
  },
  {
   "cell_type": "code",
   "execution_count": null,
   "id": "3c4edda8",
   "metadata": {},
   "outputs": [],
   "source": []
  },
  {
   "cell_type": "code",
   "execution_count": null,
   "id": "4a2acf19",
   "metadata": {},
   "outputs": [],
   "source": []
  },
  {
   "cell_type": "code",
   "execution_count": null,
   "id": "4b0ba2da",
   "metadata": {},
   "outputs": [],
   "source": []
  },
  {
   "cell_type": "code",
   "execution_count": null,
   "id": "76796b4d",
   "metadata": {},
   "outputs": [],
   "source": []
  },
  {
   "cell_type": "code",
   "execution_count": null,
   "id": "c408670a",
   "metadata": {},
   "outputs": [],
   "source": []
  }
 ],
 "metadata": {
  "kernelspec": {
   "display_name": "Python 3 (ipykernel)",
   "language": "python",
   "name": "python3"
  },
  "language_info": {
   "codemirror_mode": {
    "name": "ipython",
    "version": 3
   },
   "file_extension": ".py",
   "mimetype": "text/x-python",
   "name": "python",
   "nbconvert_exporter": "python",
   "pygments_lexer": "ipython3",
   "version": "3.10.9"
  }
 },
 "nbformat": 4,
 "nbformat_minor": 5
}
